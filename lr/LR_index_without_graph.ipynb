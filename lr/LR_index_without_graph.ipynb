{
 "cells": [
  {
   "cell_type": "code",
   "execution_count": 1,
   "id": "d2bdb346-844e-4aad-b24e-77f4995770b0",
   "metadata": {
    "tags": []
   },
   "outputs": [],
   "source": [
    "from annoy import AnnoyIndex\n",
    "from tqdm import tqdm\n",
    "import numpy as np\n",
    "import pandas as pd"
   ]
  },
  {
   "cell_type": "markdown",
   "id": "b4234b76-ad0c-4b19-ab69-658035348ccf",
   "metadata": {},
   "source": [
    "GET TABLES"
   ]
  },
  {
   "cell_type": "code",
   "execution_count": 2,
   "id": "7a21db7a-3bc2-48f5-85d4-8d1f0c2fb7ce",
   "metadata": {
    "tags": []
   },
   "outputs": [],
   "source": [
    "julien_products_df = pd.read_csv(\"/home/jupyter/20231123_stage_vincent_products.csv\", sep=\",\", engine=\"python\")\n",
    "julien_products_df.reset_index(inplace=True)"
   ]
  },
  {
   "cell_type": "code",
   "execution_count": 3,
   "id": "3f76eafa-947f-46be-9fed-05be78ed6bce",
   "metadata": {
    "tags": []
   },
   "outputs": [],
   "source": [
    "from cdiscount import config\n",
    "from cdiscount import snowflake\n",
    "\n",
    "secrets = config.load_secrets('secrets.yml', key='snowflake')\n",
    "with snowflake.get_snowflake_connection(**secrets) as con:\n",
    "    julien_product_seller_df = pd.read_csv(\"/home/jupyter/20231123_stage_vincent_product_seller_edges.csv\", sep=\",\", engine=\"python\")\n",
    "    lr_df = snowflake.query_snowflake_to_df(\n",
    "    \"\"\"\n",
    "   WITH CATEGORY_LEVEL4_PERIMETER AS (\n",
    "        SELECT DISTINCT PRODUCT_CATEGORY_LEVEL4_ID AS PRODUCT_CATEGORY_LEVEL4_ID\n",
    "        FROM QUALISCORE_LAB.LAB_STAGE_VINCENT_CANAPES_WITH_PROPERTIES\n",
    "    ),\n",
    "    CATEGORY_LEVEL3_PERIMETER AS (\n",
    "        SELECT DISTINCT\n",
    "            C.PRODUCT_CATEGORY_LEVEL3_ID,\n",
    "            C.PRODUCT_CATEGORY_LEVEL4_ID\n",
    "        FROM CATEGORY_LEVEL4_PERIMETER AS P\n",
    "        INNER JOIN REFERENTIEL_SMT.SMT_RFL_DIM_PRODUCT_CATEGORY AS C\n",
    "            ON P.PRODUCT_CATEGORY_LEVEL4_ID = C.PRODUCT_CATEGORY_LEVEL4_ID\n",
    "            AND PRODUCT_CATEGORY_DEPTH = 4\n",
    "    ),\n",
    "    CATEGORY_LEVEL3_PATH_PERIMETER AS (\n",
    "        SELECT\n",
    "            P.PRODUCT_CATEGORY_LEVEL3_ID,\n",
    "            P.PRODUCT_CATEGORY_LEVEL4_ID,\n",
    "            C.PRODUCT_CATEGORY_CODE_PATH\n",
    "        FROM CATEGORY_LEVEL3_PERIMETER AS P\n",
    "        INNER JOIN REFERENTIEL_SMT.SMT_RFL_DIM_PRODUCT_CATEGORY AS C\n",
    "            ON P.PRODUCT_CATEGORY_LEVEL3_ID = C.PRODUCT_CATEGORY_LEVEL3_ID\n",
    "            AND PRODUCT_CATEGORY_DEPTH = 3\n",
    "    ),\n",
    "    TRAFFIC AS (\n",
    "        SELECT\n",
    "            SEARCH_ID,\n",
    "            SUM(VIEW_COUNT::FLOAT) AS VIEW_COUNT,\n",
    "            SUM(CLICK_COUNT) AS CLICK_COUNT,\n",
    "            SUM(TURNOVER) AS TURNOVER\n",
    "        FROM SEARCH_SMT.SMT_SCH_AGG_SEARCH_LIST_TRACKING_KPI\n",
    "        WHERE SNAPSHOT_DATE BETWEEN CURRENT_DATE - 365 AND CURRENT_DATE - 1\n",
    "            AND SITE_ID = 100\n",
    "            AND AB_TESTING_GROUP = 'A'\n",
    "            AND SEARCH_ID <> ''\n",
    "            AND SEARCH_ID IS NOT NULL\n",
    "        GROUP BY SEARCH_ID\n",
    "    ),\n",
    "    CUMULATIVE_TRAFFIC AS (\n",
    "        SELECT\n",
    "            SEARCH_ID,\n",
    "            (\n",
    "                SUM(VIEW_COUNT)\n",
    "                OVER(\n",
    "                    ORDER BY VIEW_COUNT DESC, TURNOVER DESC, CLICK_COUNT DESC\n",
    "                    ROWS UNBOUNDED PRECEDING\n",
    "                )\n",
    "            ) / (\n",
    "                SUM(VIEW_COUNT)\n",
    "                OVER()\n",
    "            ) AS CUM_QP_TRAFFIC\n",
    "        FROM TRAFFIC\n",
    "    ),\n",
    "    TRAFFIC_BINS AS (\n",
    "        SELECT\n",
    "            SEARCH_ID,\n",
    "            FLOOR(\n",
    "                IFF(\n",
    "                    CUM_QP_TRAFFIC = 1,\n",
    "                    CUM_QP_TRAFFIC - 1e-5,\n",
    "                    CUM_QP_TRAFFIC\n",
    "                ) * 10\n",
    "            ) AS SEARCH_ID_GROUP\n",
    "        FROM CUMULATIVE_TRAFFIC\n",
    "    ),\n",
    "    VIEWED_PRODUCTS AS (\n",
    "        SELECT\n",
    "            SEARCH_ID,\n",
    "            PRODUCT_ID,\n",
    "            SUM(VIEW_COUNT) AS VIEW_COUNT\n",
    "        FROM SEARCH_SMT.SMT_SCH_AGG_SEARCH_LIST_PRODUCT_VIEW\n",
    "        WHERE SNAPSHOT_DATE BETWEEN CURRENT_DATE - 30 AND CURRENT_DATE - 1\n",
    "            AND SITE_ID = 100\n",
    "        GROUP BY\n",
    "            SEARCH_ID,\n",
    "            PRODUCT_ID\n",
    "--        HAVING SUM(VIEW_COUNT) > 1\n",
    "    ),\n",
    "    CATEGORIZED_SEACH_ID AS (\n",
    "        SELECT DISTINCT LR.SEARCH_ID AS SEARCH_ID\n",
    "        FROM CATEGORY_LEVEL3_PATH_PERIMETER AS P\n",
    "        INNER JOIN SEARCH_SMT.SMT_SCH_DIM_SEARCH_LIST_CATEGORY_FILTER AS LR\n",
    "            ON P.PRODUCT_CATEGORY_CODE_PATH = LR.CATEGORY_FILTER_PATH_CODE\n",
    "            AND LR.SNAPSHOT_DATE BETWEEN CURRENT_DATE - 365 AND CURRENT_DATE - 1\n",
    "            AND LR.SITE_ID = 100\n",
    "            AND LR.AB_TESTING_SVC_COOKIE_GROUP = 'A'\n",
    "    ),\n",
    "    CATEGORIZED_VIEWED_PRODUCTS AS (\n",
    "        SELECT\n",
    "            T.SEARCH_ID_GROUP,\n",
    "            V.SEARCH_ID,\n",
    "            V.PRODUCT_ID,\n",
    "            SUM(V.VIEW_COUNT) AS VIEW_COUNT\n",
    "            \n",
    "        FROM CATEGORIZED_SEACH_ID AS LR\n",
    "        INNER JOIN VIEWED_PRODUCTS AS V\n",
    "            ON LR.SEARCH_ID = V.SEARCH_ID\n",
    "        INNER JOIN TRAFFIC_BINS AS T\n",
    "            ON LR.SEARCH_ID = T.SEARCH_ID\n",
    "        GROUP BY\n",
    "            T.SEARCH_ID_GROUP,\n",
    "            V.SEARCH_ID,\n",
    "            V.PRODUCT_ID\n",
    "    )\n",
    "SELECT\n",
    "    SEARCH_ID_GROUP,\n",
    "    SEARCH_ID,\n",
    "    PRODUCT_ID,\n",
    "    VIEW_COUNT\n",
    "FROM CATEGORIZED_VIEWED_PRODUCTS\n",
    "QUALIFY ROW_NUMBER() OVER (PARTITION BY SEARCH_ID_GROUP, SEARCH_ID ORDER BY VIEW_COUNT DESC) <= 100\n",
    ";\n",
    "    \"\"\", con=con)"
   ]
  },
  {
   "cell_type": "code",
   "execution_count": 4,
   "id": "2d349db2-789e-41d8-81cc-1af9abd2795c",
   "metadata": {
    "tags": []
   },
   "outputs": [
    {
     "data": {
      "text/html": [
       "<div>\n",
       "<style scoped>\n",
       "    .dataframe tbody tr th:only-of-type {\n",
       "        vertical-align: middle;\n",
       "    }\n",
       "\n",
       "    .dataframe tbody tr th {\n",
       "        vertical-align: top;\n",
       "    }\n",
       "\n",
       "    .dataframe thead th {\n",
       "        text-align: right;\n",
       "    }\n",
       "</style>\n",
       "<table border=\"1\" class=\"dataframe\">\n",
       "  <thead>\n",
       "    <tr style=\"text-align: right;\">\n",
       "      <th></th>\n",
       "      <th>search_id_group</th>\n",
       "      <th>search_id</th>\n",
       "      <th>product_id</th>\n",
       "      <th>view_count</th>\n",
       "    </tr>\n",
       "  </thead>\n",
       "  <tbody>\n",
       "    <tr>\n",
       "      <th>0</th>\n",
       "      <td>3.0</td>\n",
       "      <td>canapeangle200cm</td>\n",
       "      <td>AUC3700538225186</td>\n",
       "      <td>235</td>\n",
       "    </tr>\n",
       "    <tr>\n",
       "      <th>1</th>\n",
       "      <td>3.0</td>\n",
       "      <td>canapeangle200cm</td>\n",
       "      <td>ASPENHDGTX</td>\n",
       "      <td>199</td>\n",
       "    </tr>\n",
       "    <tr>\n",
       "      <th>2</th>\n",
       "      <td>3.0</td>\n",
       "      <td>canapeangle200cm</td>\n",
       "      <td>A108301</td>\n",
       "      <td>192</td>\n",
       "    </tr>\n",
       "    <tr>\n",
       "      <th>3</th>\n",
       "      <td>3.0</td>\n",
       "      <td>canapeangle200cm</td>\n",
       "      <td>DES3760250736612</td>\n",
       "      <td>180</td>\n",
       "    </tr>\n",
       "    <tr>\n",
       "      <th>4</th>\n",
       "      <td>3.0</td>\n",
       "      <td>canapeangle200cm</td>\n",
       "      <td>BAI3584179069817</td>\n",
       "      <td>162</td>\n",
       "    </tr>\n",
       "    <tr>\n",
       "      <th>...</th>\n",
       "      <td>...</td>\n",
       "      <td>...</td>\n",
       "      <td>...</td>\n",
       "      <td>...</td>\n",
       "    </tr>\n",
       "    <tr>\n",
       "      <th>316739</th>\n",
       "      <td>7.0</td>\n",
       "      <td>canapeangledroitnoir</td>\n",
       "      <td>DEL4250809379272</td>\n",
       "      <td>2</td>\n",
       "    </tr>\n",
       "    <tr>\n",
       "      <th>316740</th>\n",
       "      <td>7.0</td>\n",
       "      <td>canapeangledroitnoir</td>\n",
       "      <td>VEN3517920877393</td>\n",
       "      <td>2</td>\n",
       "    </tr>\n",
       "    <tr>\n",
       "      <th>316741</th>\n",
       "      <td>7.0</td>\n",
       "      <td>canapeangledroitnoir</td>\n",
       "      <td>BES3701061722265</td>\n",
       "      <td>2</td>\n",
       "    </tr>\n",
       "    <tr>\n",
       "      <th>316742</th>\n",
       "      <td>7.0</td>\n",
       "      <td>canapeangledroitnoir</td>\n",
       "      <td>VEN4894223128414</td>\n",
       "      <td>2</td>\n",
       "    </tr>\n",
       "    <tr>\n",
       "      <th>316743</th>\n",
       "      <td>7.0</td>\n",
       "      <td>canapeangledroitnoir</td>\n",
       "      <td>BES3701061726218</td>\n",
       "      <td>2</td>\n",
       "    </tr>\n",
       "  </tbody>\n",
       "</table>\n",
       "<p>316744 rows × 4 columns</p>\n",
       "</div>"
      ],
      "text/plain": [
       "        search_id_group             search_id        product_id  view_count\n",
       "0                   3.0      canapeangle200cm  AUC3700538225186         235\n",
       "1                   3.0      canapeangle200cm        ASPENHDGTX         199\n",
       "2                   3.0      canapeangle200cm           A108301         192\n",
       "3                   3.0      canapeangle200cm  DES3760250736612         180\n",
       "4                   3.0      canapeangle200cm  BAI3584179069817         162\n",
       "...                 ...                   ...               ...         ...\n",
       "316739              7.0  canapeangledroitnoir  DEL4250809379272           2\n",
       "316740              7.0  canapeangledroitnoir  VEN3517920877393           2\n",
       "316741              7.0  canapeangledroitnoir  BES3701061722265           2\n",
       "316742              7.0  canapeangledroitnoir  VEN4894223128414           2\n",
       "316743              7.0  canapeangledroitnoir  BES3701061726218           2\n",
       "\n",
       "[316744 rows x 4 columns]"
      ]
     },
     "execution_count": 4,
     "metadata": {},
     "output_type": "execute_result"
    }
   ],
   "source": [
    "lr_df"
   ]
  },
  {
   "cell_type": "code",
   "execution_count": 4,
   "id": "7bdb39b6-7a14-4aea-82ec-9ea660ce61ed",
   "metadata": {
    "tags": []
   },
   "outputs": [],
   "source": [
    "full_df = julien_products_df.merge(lr_df, on=\"product_id\")\n",
    "full_df.rename(columns={'fp_product_name':'product_name', 'product_long_description':'description'}, inplace=True)\n",
    "full_df.description.fillna(\"\", inplace=True)\n",
    "full_df.drop(columns=['product_short_description',\n",
    "                      'product_properties',\n",
    "                      'preprocessed_product_properties',\n",
    "                      'product_marketing_description',\n",
    "                      'total_token_fp_product_name',\n",
    "                      'total_token_product_long_description',\n",
    "                      'total_token_fp_content',\n",
    "                      #'community_id'\n",
    "                     ], inplace=True)\n",
    "saving_csv = False\n",
    "if saving_csv:\n",
    "    full_df.to_csv(\"csv_files/lr_products.csv\", index=False, sep='\\u0001')"
   ]
  },
  {
   "cell_type": "markdown",
   "id": "46a0feb2-6a29-4c94-a27d-b523e7aefc23",
   "metadata": {},
   "source": [
    "ANNOY-ING NEIGHBORS"
   ]
  },
  {
   "cell_type": "code",
   "execution_count": 5,
   "id": "6581a261-4e05-494e-97f5-44ae28cf0e18",
   "metadata": {
    "tags": []
   },
   "outputs": [],
   "source": [
    "def id2product_id(index):\n",
    "    return full_df.iloc[index].product_id\n",
    "\n",
    "def get_neighbors(u, i, k):\n",
    "    neighbors, distances = u.get_nns_by_item(i=i, n=k+1, include_distances=True)\n",
    "    return (\n",
    "      pd.DataFrame({\n",
    "          'id': i,\n",
    "          'neighbor_id': neighbors,\n",
    "          'distance': distances\n",
    "      })\n",
    "      .loc[lambda x: x.neighbor_id.ne(i)]\n",
    "      .head(k)\n",
    "      .assign(rank=[j for j in range(1, k+1)])\n",
    "    )"
   ]
  },
  {
   "cell_type": "code",
   "execution_count": 6,
   "id": "bb32c7db-b080-41d5-a508-b298c0acb199",
   "metadata": {},
   "outputs": [
    {
     "name": "stderr",
     "output_type": "stream",
     "text": [
      "100%|██████████| 275071/275071 [00:22<00:00, 12038.83it/s]\n"
     ]
    },
    {
     "data": {
      "text/plain": [
       "True"
      ]
     },
     "execution_count": 6,
     "metadata": {},
     "output_type": "execute_result"
    }
   ],
   "source": [
    "index_list = full_df[\"index\"]\n",
    "vec_dim = 1536\n",
    "original_annoy_index = AnnoyIndex(vec_dim, 'dot')\n",
    "original_annoy_index.load('/home/jupyter/20231123_stage_vincent_products_fp_content.ann')\n",
    "u = AnnoyIndex(vec_dim, 'dot')\n",
    "new_idx = 0\n",
    "for i in tqdm(index_list, total=len(index_list)):\n",
    "    vector = original_annoy_index.get_item_vector(i)\n",
    "    u.add_item(new_idx, vector)\n",
    "    new_idx += 1\n",
    "u.build(100)"
   ]
  },
  {
   "cell_type": "code",
   "execution_count": 14,
   "id": "62e9766c-a9f0-465c-8ef3-50f272fff15e",
   "metadata": {
    "tags": []
   },
   "outputs": [],
   "source": [
    "def get_products_similarity_score_median(ids, embedded_products: AnnoyIndex):\n",
    "    similarities = []\n",
    "    for id1 in ids:\n",
    "        for id2 in ids:\n",
    "            if id1 <= id2:\n",
    "                break\n",
    "            similarities.append(embedded_products.get_distance(id1, id2))\n",
    "    return np.median(similarities)"
   ]
  },
  {
   "cell_type": "code",
   "execution_count": 17,
   "id": "d3b2b676-32e7-47ca-8965-7bdb4b5bf18e",
   "metadata": {
    "tags": []
   },
   "outputs": [],
   "source": [
    "product_id_to_id = {v: k for k, v in full_df.product_id.to_dict().items()}"
   ]
  },
  {
   "cell_type": "code",
   "execution_count": 19,
   "id": "b8c4e216-61a0-4339-aa5a-ec3ab7327a09",
   "metadata": {
    "tags": []
   },
   "outputs": [
    {
     "name": "stderr",
     "output_type": "stream",
     "text": [
      " 75%|███████▍  | 2976/3969 [00:05<00:01, 787.74it/s]/home/jupyter/.virtualenvs/icarusight/lib/python3.10/site-packages/numpy/core/fromnumeric.py:3504: RuntimeWarning: Mean of empty slice.\n",
      "  return _methods._mean(a, axis=axis, dtype=dtype,\n",
      "/home/jupyter/.virtualenvs/icarusight/lib/python3.10/site-packages/numpy/core/_methods.py:129: RuntimeWarning: invalid value encountered in scalar divide\n",
      "  ret = ret.dtype.type(ret / rcount)\n",
      "100%|██████████| 3969/3969 [00:06<00:00, 614.61it/s]\n"
     ]
    }
   ],
   "source": [
    "similarity_scores = {}\n",
    "for name, group in tqdm(full_df.groupby(['search_id_group', 'search_id'])):\n",
    "    search_id_group, search_id = name\n",
    "    selected_products = group.product_id\n",
    "    ids = sorted([product_id_to_id[p] for p in selected_products])\n",
    "    score = get_products_similarity_score_median(\n",
    "        ids=ids,\n",
    "        embedded_products=u\n",
    "    )\n",
    "    if search_id_group not in similarity_scores:\n",
    "        similarity_scores[search_id_group] = {}\n",
    "    similarity_scores[search_id_group][search_id] = score"
   ]
  },
  {
   "cell_type": "code",
   "execution_count": 44,
   "id": "ae26740e-1a53-4dcf-952e-8335461c8964",
   "metadata": {
    "tags": []
   },
   "outputs": [
    {
     "data": {
      "text/plain": [
       "{'canapeconvertibleexpress': 0.9398147761821747,\n",
       " 'housseclicclac140x190': 0.9182742238044739,\n",
       " 'canapechesterfield': 0.9174169898033142,\n",
       " 'canapeangleconvertible': 0.9138427972793579,\n",
       " 'houssecanape': 0.9133579134941101,\n",
       " 'houssedecanape': 0.9124626219272614,\n",
       " 'canapedanglebeige': 0.9107554852962494,\n",
       " 'canapedangleconvertiblecoffre': 0.9106262028217316,\n",
       " 'canaperelax': 0.9092907309532166,\n",
       " 'canapepanoramique': 0.9060946404933929,\n",
       " 'canapejosh': 0.90528404712677,\n",
       " 'canapevelourscotele': 0.9047065079212189,\n",
       " 'canapemira': 0.901705265045166,\n",
       " 'canapedroit': 0.9004745483398438,\n",
       " 'canape2placesconvertible': 0.8986257612705231,\n",
       " 'canapebeige': 0.8962932825088501,\n",
       " 'canape2place': 0.8958171606063843,\n",
       " 'canapevelours': 0.8957047760486603,\n",
       " 'sofa': 0.8947322368621826,\n",
       " 'canapepoltronesofa': 0.8930362462997437,\n",
       " 'canapes': 0.8923382759094238,\n",
       " 'canape3place': 0.8909438848495483,\n",
       " 'canapecuir': 0.8903276920318604}"
      ]
     },
     "execution_count": 44,
     "metadata": {},
     "output_type": "execute_result"
    }
   ],
   "source": [
    "{k: v for k, v in sorted(similarity_scores[1.0].items(), key=lambda item: item[1], reverse=True)}"
   ]
  },
  {
   "cell_type": "code",
   "execution_count": 35,
   "id": "0106c2bb-eee0-417b-920a-68cbd7560834",
   "metadata": {
    "tags": []
   },
   "outputs": [],
   "source": [
    "def look4one_search_id(search_id):\n",
    "    return (full_df\n",
    "        .loc[lambda x: x.search_id.eq(search_id) & x.product_id.isin(full_df.product_id), 'product_name']\n",
    "        .tolist())"
   ]
  },
  {
   "cell_type": "code",
   "execution_count": 45,
   "id": "3824e595-09fd-42a3-bf53-982ac4cf0a70",
   "metadata": {
    "tags": []
   },
   "outputs": [
    {
     "data": {
      "text/plain": [
       "['Canapé convertible EXPRESS 3/4 places en polyuréthane noir - Couchage 160cm - Epaisseur matelas 16cm - MIDNIGHT',\n",
       " 'Canapé convertible EXPRESS 2/3 places en tissu gris graphite - Couchage 120cm - Epaisseur matelas 16cm - MIDNIGHT',\n",
       " 'Canapé convertible EXPRESS 2/3 places en velours bleu pastel - Couchage 120cm - Matelas épaisseur 22cm à mémoire de forme - COLOSSE',\n",
       " 'Canapé convertible express SUN LIMITED 140 cm matelas 14 cm velours vert vert Velours Inside75',\n",
       " 'Canapé convertible EXPRESS 2/3 places en cuir et polyuréthane blanc - Couchage 120cm - Epaisseur matelas 16cm - DREAMER EDITION CUIR',\n",
       " 'Canapé convertible EXPRESS 2/3 places en tissu tweed taupe - Couchage 120cm - Epaisseur matelas 18cm - ECLIPSE',\n",
       " 'Canapé convertible EXPRESS 3 places en cuir et polyuréthane blanc - Couchage 140cm - Epaisseur matelas 16cm - DREAMER EDITION CUIR',\n",
       " 'Canapé convertible EXPRESS 3 places en velours bleu pastel - Couchage 140cm - Matelas épaisseur 22cm à mémoire de forme - COLOSSE',\n",
       " \"Canapé d'angle compact convertible EXPRESS 4/5 places réversible tissu gris silver - Couchage 140cm - Matelas 14cm - GAIN DE PLACE\",\n",
       " 'Canapé convertible EXPRESS 3 places en microfibre gris graphite - Couchage 140cm - Epaisseur matelas 18cm - MASTER',\n",
       " 'Canapé convertible EXPRESS 3 places en tissu tweed gris graphite - Couchage 140cm - Epaisseur matelas 18cm - ECLIPSE',\n",
       " 'Canapé convertible EXPRESS 3/4 places en tissu bleu paon - Couchage 160cm - Epaisseur matelas 14cm - PARADISO',\n",
       " 'Canapé convertible EXPRESS 3/4 places en tissu bleu cobalt - Couchage 160cm - Epaisseur matelas 16cm - MIDNIGHT',\n",
       " 'Canapé convertible EXPRESS 140cm DREAMER polyuréthane gris matelas 16 cm gris Similicuir Inside75',\n",
       " 'Canapé convertible EXPRESS 2/3 places en velours gris silver - Couchage 120cm - Matelas épaisseur 22cm à mémoire de forme - COLOSSE',\n",
       " 'Canapé convertible EXPRESS 3 places en tissu marron - Couchage 140cm - Epaisseur matelas 14cm - PARADISO',\n",
       " 'Canapé convertible EXPRESS 3 places en tissu gris graphite - Couchage 140cm - Epaisseur matelas 14cm - PARADISO',\n",
       " 'Canapé convertible EXPRESS 2/3 places en tissu gris silver - Couchage 120cm - Epaisseur matelas 14cm - PARADISO',\n",
       " 'Canapé convertible EXPRESS 2/3 places en microfibre marron - Couchage 120cm - Epaisseur matelas 16cm - MIDLAND',\n",
       " 'Canapé convertible express MAC MAHON sommier lattes 120cm matelas 16cm tissu tweed gris graphite gris Tissu Inside75',\n",
       " 'Canapé convertible EXPRESS 3 places en tissu gris graphite - Couchage 140cm - Epaisseur matelas 16cm - MIDNIGHT',\n",
       " 'Canapé convertible EXPRESS 3 places en microfibre taupe - Couchage 140cm - Epaisseur matelas 18cm - MASTER',\n",
       " 'Canapé convertible EXPRESS 3 places en velours gris silver - Couchage 140cm - Matelas épaisseur 22cm à mémoire de forme - COLOSSE',\n",
       " 'Canapé convertible EXPRESS 2/3 places en cuir et polyuréthane noir - Couchage 120cm - Epaisseur matelas 16cm - DREAMER EDITION CUIR',\n",
       " 'Canapé convertible EXPRESS 3 places en tissu gris silver - Couchage 140cm - Epaisseur matelas 14cm - PARADISO',\n",
       " 'Canapé convertible EXPRESS 3/4 places en tissu rouge - Couchage 160cm - Epaisseur matelas 16cm - MIDNIGHT',\n",
       " 'Canapé convertible EXPRESS SIDNEY têtières réglables couchage 120cm matelas 16cm tissu gris clair gris Tissu Inside75',\n",
       " 'Canapé convertible express SUN LIMITED 140 cm matelas 14 cm velours gris gris Velours Inside75',\n",
       " 'Canapé convertible express MIDNIGHT AMORE sommier lattes 140cm matelas 16cm velours bleu paon bleu Velours Inside75',\n",
       " 'Canapé convertible EXPRESS 3/4 places en cuir et polyuréthane taupe - Couchage 160cm - Epaisseur matelas 16cm - SUN EDITION CUIR',\n",
       " 'Canapé convertible EXPRESS 3 places tissu tweed gris graphite - Sommier lattes - Couchage 140cm - Epaisseur matelas 16cm - MAC MAHON',\n",
       " 'Canapé convertible express MAC MAHON sommier lattes 160cm matelas 16cm tissu tweed rouge mahogany rouge Tissu Inside75',\n",
       " 'Canapé convertible EXPRESS compact 3 places en tissu tweed bleu nuit - Couchage 140cm - Epaisseur matelas 16cm - EXPRESSO',\n",
       " 'Canapé convertible express MAC MAHON sommier lattes 160cm matelas 16cm tissu tweed jaune curry jaune Tissu Inside75',\n",
       " 'Canapé convertible EXPRESS 3 places en tissu marron - Couchage 140cm - Epaisseur matelas 16cm - MIDNIGHT',\n",
       " 'Canapé convertible EXPRESS 3/4 places en tissu gris silver - Couchage 160cm - Epaisseur matelas 16cm - MIDNIGHT',\n",
       " 'Canapé convertible express AMAZONE matelas 140cm comfort BULTEX® 14cm tweed bleu turquoise bleu Tissu Inside75',\n",
       " 'Canapé convertible express style industriel MADAGASCAR 120 cm matelas 16 cm microfibre vintage marron Microfibre Inside75',\n",
       " 'Canapé convertible EXPRESS 2/3 places en polyuréthane blanc - Couchage 120cm - Epaisseur matelas 16cm - MIDNIGHT',\n",
       " 'Canapé convertible EXPRESS 3 places en velours taupe - Couchage 140cm - Matelas épaisseur 22cm à mémoire de forme - COLOSSE',\n",
       " 'Canapé convertible EXPRESS 2/3 places en tissu marron - Couchage 120cm - Epaisseur matelas 14cm - PARADISO',\n",
       " 'Canapé convertible EXPRESS 3 places tissu tweed gris clair - Sommier à lattes - Couchage 140cm - Epaisseur matelas 16cm - MAC MAHON',\n",
       " 'Canapé convertible EXPRESS 140cm DREAMER polyuréthane beige,. matelas 16 cm ecru Cuir Inside75',\n",
       " 'Canapé convertible EXPRESS 2/3 places en tissu gris graphite - Couchage 120cm - Epaisseur matelas 14cm - PARADISO',\n",
       " 'Canapé convertible express MAC MAHON sommier lattes 120cm matelas 16cm tissu tweed bleu lagon bleu Tissu Inside75',\n",
       " 'Canapé convertible EXPRESS 3 places tissu tweed gris clair - Têtières réglables - Couchage 140cm - Epaisseur matelas 16cm - DARWIN',\n",
       " 'Canapé convertible EXPRESS 3 places en tissu bleu cobalt - Couchage 140cm - Epaisseur matelas 16cm - MIDNIGHT',\n",
       " 'Canapé convertible EXPRESS compact 2/3 places en tissu tweed gris graphite - Couchage 120cm - Epaisseur matelas 16cm - EXPRESSO',\n",
       " 'Canapé convertible express VELVET 140 cm matelas 16 cm velours vert vert Velours Inside75',\n",
       " 'Canapé convertible EXPRESS 2/3 places en velours gris anthracite - Couchage 120cm - Matelas épais 22cm à mémoire de forme - COLOSSE',\n",
       " 'Canapé convertible EXPRESS 3 places en polyuréthane noir - Couchage 140cm - Epaisseur matelas 16cm - MIDNIGHT',\n",
       " 'Canapé convertible EXPRESS 3 places en tissu tweed beige - Sommier à lattes - Couchage 140cm - Epaisseur matelas 16cm - MAC MAHON',\n",
       " 'Canapé convertible EXPRESS compact 2/3 places en tissu tweed bleu nuit - Couchage 120cm - Epaisseur matelas 16cm - EXPRESSO',\n",
       " 'Ari - Canapé 3 places convertible - ouverture express - couchage quotidien Couleur - Beige',\n",
       " 'Canapé convertible EXPRESS 3 places en tissu tweed bleu style scandinave - Couchage 140cm - Epaisseur matelas 16cm - MEZZANO',\n",
       " 'Canapé convertible EXPRESS 3 places en tissu bleu paon - Couchage 140cm - Epaisseur matelas 14cm - PARADISO',\n",
       " 'Canapé convertible express TOULOUSE 140 cm matelas 16 cm tissu tweed beige beige Tissu Inside75',\n",
       " 'Canapé convertible EXPRESS 3 places en tissu gris silver - Couchage 140cm - Epaisseur matelas 16cm - MIDNIGHT',\n",
       " 'Canapé convertible express MAC MAHON sommier lattes 120cm matelas 16cm tissu tweed jaune curry jaune Tissu Inside75',\n",
       " 'Canapé convertible EXPRESS 2/3 places en tissu gris silver - Couchage 120cm - Epaisseur matelas 16cm - MIDNIGHT',\n",
       " 'Canapé convertible EXPRESS 3/4 places en cuir et polyuréthane blanc - Couchage 160cm - Epaisseur matelas 16cm - DREAMER EDITION CUIR',\n",
       " 'Canapé convertible EXPRESS 140cm DREAMER polyuréthane blanc,. matelas 16 cm blanc Cuir Inside75',\n",
       " 'Canapé convertible express MIDNIGHT AMORE 140cm matelas 16cm velours gris anthracite gris Velours Inside75',\n",
       " 'Canapé convertible EXPRESS 3 places en velours gris ardoise - Couchage 140cm - Epaisseur matelas 16cm - MIDNIGHT',\n",
       " 'Canapé convertible EXPRESS 2/3 places en tissu bleu paon - Couchage 120cm - Epaisseur matelas 14cm - PARADISO',\n",
       " 'Canapé convertible EXPRESS 3/4 places en cuir et polyuréthane noir - Couchage 160cm - Epaisseur matelas 16cm - SUN EDITION CUIR',\n",
       " 'Canapé convertible EXPRESS 3 places tissu tweed bleu nuit avec têtières réglables - Couchage 140cm - Epaisseur matelas 16cm - DARWIN',\n",
       " 'Canapé convertible EXPRESS 2/3 places en tissu bleu cobalt - Couchage 120cm - Epaisseur matelas 16cm - MIDNIGHT',\n",
       " 'Canapé convertible EXPRESS DARWIN têtières réglables couchage 160cm matelas 16cm tissu tweed gris anthracite gris Tissu Inside75',\n",
       " 'Canapé convertible EXPRESS 2/3 places en tissu marron - Couchage 120cm - Epaisseur matelas 16cm - MIDNIGHT',\n",
       " 'Canapé convertible EXPRESS 3 places en polyuréthane blanc - Couchage 140cm - Epaisseur matelas 16cm - MIDNIGHT',\n",
       " 'Canapé convertible EXPRESS 3 places en tissu tweed bleu marine - Couchage 140cm - Epaisseur matelas 18cm - ECLIPSE',\n",
       " 'Canapé convertible EXPRESS 2/3 places en tissu tweed gris graphite - Couchage 120cm - Epaisseur matelas 18cm - ECLIPSE',\n",
       " 'Canapé convertible EXPRESS 3/4 places en tissu marron - Couchage 160cm - Epaisseur matelas 14cm - PARADISO',\n",
       " 'Canapé convertible EXPRESS 2/3 places en polyuréthane noir - Couchage 120cm - Epaisseur matelas 16cm - MIDNIGHT',\n",
       " 'Canapé convertible EXPRESS 3/4 places en tissu gris silver - Couchage 160cm - Epaisseur matelas 14cm - PARADISO',\n",
       " 'Canapé convertible EXPRESS 2/3 places en microfibre gris graphite - Couchage 120cm - Epaisseur matelas 18cm - MASTER',\n",
       " 'Canapé convertible EXPRESS compact 3 places en tissu tweed gris clair - Couchage 140cm - Epaisseur matelas 16cm - EXPRESSO',\n",
       " 'Canapé convertible EXPRESS 3 places en velours bleu paon - Couchage 140cm - Matelas épaisseur 22cm à mémoire de forme - COLOSSE',\n",
       " 'Canapé convertible express SUN LIMITED 140 cm matelas 14 cm velours bleu bleu Velours Inside75',\n",
       " 'Canapé convertible EXPRESS 3 places en velours bleu paon - Couchage 140cm - Epaisseur matelas 16cm - MIDNIGHT',\n",
       " 'Canapé convertible EXPRESS compact 3 places en tissu tweed gris graphite - Couchage 140cm - Epaisseur matelas 16cm - EXPRESSO',\n",
       " 'Canapé convertible EXPRESS 3/4 places en tissu gris graphite - Couchage 160cm - Epaisseur matelas 16cm - MIDNIGHT',\n",
       " 'Canapé convertible EXPRESS 2/3 places en cuir et polyuréthane gris graphite - Couchage 120cm - Matelas 16cm - DREAMER EDITION CUIR',\n",
       " 'Canapé convertible express TOULOUSE 140 cm matelas 16 cm tissu tweed gris graphite gris Tissu Inside75',\n",
       " 'Canapé convertible EXPRESS 3/4 places en velours bleu marine - Couchage 160cm - Matelas épaisseur 22cm à mémoire de forme - COLOSSE',\n",
       " 'Canapé convertible EXPRESS 3 places en tissu rouge - Couchage 140cm - Epaisseur matelas 16cm - MIDNIGHT',\n",
       " 'Canapé convertible express TOULOUSE 140 cm matelas 16 cm tissu tweed bleu paon bleu Tissu Inside75',\n",
       " 'Canapé convertible EXPRESS 2/3 places en velours bleu marine - Couchage 120cm - Matelas épaisseur 22cm à mémoire de forme - COLOSSE',\n",
       " 'Canapé convertible EXPRESS SIDNEY têtières réglables couchage 120cm matelas 16cm tissu gris anthracite gris Tissu Inside75',\n",
       " 'Canapé convertible EXPRESS 3 places en velours gris anthracite - Couchage 140cm - Matelas épaisseur 22cm mémoire de forme - COLOSSE',\n",
       " 'Canapé convertible EXPRESS 140cm DREAMER polyuréthane noir matelas 16 cm noir Cuir Inside75',\n",
       " 'Canapé convertible EXPRESS 3 places en tissu tweed gris clair style scandinave - Couchage 140cm - Epaisseur matelas 16cm - MEZZANO',\n",
       " 'Canapé convertible EXPRESS DARWIN têtières réglables couchage 120cm matelas 16cm tissu tweed gris clair gris Tissu Inside75',\n",
       " 'Canapé convertible EXPRESS 2/3 places en tissu tweed bleu marine - Couchage 120cm - Epaisseur matelas 18cm - ECLIPSE',\n",
       " 'Canapé convertible EXPRESS 120cm DREAMER polyuréthane blanc,. matelas 16 cm blanc Cuir Inside75',\n",
       " 'Canapé lit 3 places BORDEAUX convertible EXPRESS 140cm matelas 16 cm tweed gris clair gris Tissu Inside75',\n",
       " 'Canapé convertible express SUN LIMITED 140 cm matelas 14 cm velours taupe taupe Velours Inside75',\n",
       " 'Canapé convertible EXPRESS 3/4 places en cuir et polyuréthane taupe - Couchage 160cm - Epaisseur matelas 16cm - DREAMER EDITION CUIR',\n",
       " 'Canapé convertible express TOULOUSE 140 cm matelas 16 cm tissu tweed gris clair gris Tissu Inside75']"
      ]
     },
     "execution_count": 45,
     "metadata": {},
     "output_type": "execute_result"
    }
   ],
   "source": [
    "look4one_search_id('canapeconvertibleexpress')"
   ]
  },
  {
   "cell_type": "code",
   "execution_count": 9,
   "id": "68b68f94-9670-4c12-8ebe-2ef7a182f1bf",
   "metadata": {
    "tags": []
   },
   "outputs": [
    {
     "data": {
      "text/plain": [
       "Index(['index', 'product_id', 'brand_name', 'product_name', 'description',\n",
       "       'fp_content', 'search_id_group', 'search_id', 'view_count'],\n",
       "      dtype='object')"
      ]
     },
     "execution_count": 9,
     "metadata": {},
     "output_type": "execute_result"
    }
   ],
   "source": [
    "full_df.columns"
   ]
  },
  {
   "cell_type": "code",
   "execution_count": null,
   "id": "a9bbefbb-91db-4407-b596-8c9901e51eca",
   "metadata": {
    "tags": []
   },
   "outputs": [],
   "source": [
    "def check_products_in_lr(search_id):\n",
    "    rows = exploded_lr_df.loc[exploded_lr_df.search_id == search_id]\n",
    "    for product_id in rows.product_id:\n",
    "        if product_id in full_df.product_id.tolist():\n",
    "            display(full_df[full_df.product_id == product_id].product_name.item())"
   ]
  },
  {
   "cell_type": "code",
   "execution_count": null,
   "id": "4a6db0d4-a787-4b62-8259-5970dda0d1f1",
   "metadata": {
    "tags": []
   },
   "outputs": [],
   "source": [
    "check_products_in_lr('canapeelectrique')"
   ]
  }
 ],
 "metadata": {
  "kernelspec": {
   "display_name": "Python 3.10 (icarusight)",
   "language": "python",
   "name": "icarusight"
  },
  "language_info": {
   "codemirror_mode": {
    "name": "ipython",
    "version": 3
   },
   "file_extension": ".py",
   "mimetype": "text/x-python",
   "name": "python",
   "nbconvert_exporter": "python",
   "pygments_lexer": "ipython3",
   "version": "3.10.13"
  },
  "toc-autonumbering": false,
  "toc-showcode": true,
  "toc-showmarkdowntxt": true
 },
 "nbformat": 4,
 "nbformat_minor": 5
}
