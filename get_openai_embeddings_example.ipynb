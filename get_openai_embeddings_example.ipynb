{
 "cells": [
  {
   "cell_type": "code",
   "execution_count": 1,
   "id": "8e30e767-a06b-47f4-8ed9-21ebebac993e",
   "metadata": {
    "tags": []
   },
   "outputs": [],
   "source": [
    "import os\n",
    "import re\n",
    "from typing import List, Union, Dict\n",
    "import time\n",
    "import requests\n",
    "\n",
    "from requests.exceptions import ReadTimeout\n",
    "from requests.exceptions import ReadTimeout, ConnectTimeout\n",
    "from urllib3.exceptions import NewConnectionError, MaxRetryError\n",
    "from socket import gaierror\n",
    "\n",
    "import numpy as np\n",
    "import pandas as pd\n",
    "from tqdm import tqdm\n",
    "\n",
    "from annoy import AnnoyIndex\n",
    "from sklearn.preprocessing import normalize\n",
    "\n",
    "from snowflake.connector import SnowflakeConnection\n",
    "from cdiscount.config import load_secrets\n",
    "from cdiscount.snowflake import get_snowflake_connection, query_snowflake_to_df, push_to_snowflake, query_snowflake_to_df_batches\n",
    "\n",
    "import matplotlib.pyplot as plt"
   ]
  },
  {
   "cell_type": "code",
   "execution_count": 2,
   "id": "2f82f7bc-990c-431b-96e4-8526467c86e4",
   "metadata": {
    "tags": []
   },
   "outputs": [],
   "source": [
    "from src.azure_openai.config import AzureOpenAIConfig\n",
    "from src.azure_openai.limiter import Limiter"
   ]
  },
  {
   "cell_type": "code",
   "execution_count": 3,
   "id": "f452e30e-a0c4-4f6b-b322-7ab55e957603",
   "metadata": {
    "tags": []
   },
   "outputs": [],
   "source": [
    "secrets_file = '/home/jupyter/secrets.yml'\n",
    "SNOW_SECRETS = load_secrets(filename=secrets_file, key='snowflake')\n",
    "AZURE_SECRETS = load_secrets(filename=secrets_file, key='azure_openai_embeddings')"
   ]
  },
  {
   "cell_type": "code",
   "execution_count": 4,
   "id": "6ab18ce1-16ec-4a0f-a61c-4f82147dae24",
   "metadata": {
    "tags": []
   },
   "outputs": [
    {
     "name": "stdout",
     "output_type": "stream",
     "text": [
      "102877\n",
      "102877\n"
     ]
    },
    {
     "data": {
      "text/html": [
       "<div>\n",
       "<style scoped>\n",
       "    .dataframe tbody tr th:only-of-type {\n",
       "        vertical-align: middle;\n",
       "    }\n",
       "\n",
       "    .dataframe tbody tr th {\n",
       "        vertical-align: top;\n",
       "    }\n",
       "\n",
       "    .dataframe thead th {\n",
       "        text-align: right;\n",
       "    }\n",
       "</style>\n",
       "<table border=\"1\" class=\"dataframe\">\n",
       "  <thead>\n",
       "    <tr style=\"text-align: right;\">\n",
       "      <th></th>\n",
       "      <th>product_id</th>\n",
       "      <th>fp_content</th>\n",
       "    </tr>\n",
       "  </thead>\n",
       "  <tbody>\n",
       "    <tr>\n",
       "      <th>0</th>\n",
       "      <td>AUC4803243591214</td>\n",
       "      <td>TITRE: Elégant Canapé droit fixe 2 places - Ca...</td>\n",
       "    </tr>\n",
       "    <tr>\n",
       "      <th>1</th>\n",
       "      <td>AUC9419864504530</td>\n",
       "      <td>TITRE: 13262Haut de gamme® Canapé de Relaxatio...</td>\n",
       "    </tr>\n",
       "    <tr>\n",
       "      <th>2</th>\n",
       "      <td>AUC3026654499486</td>\n",
       "      <td>TITRE: MARKET Canapé-lit réglable, Canapé en l...</td>\n",
       "    </tr>\n",
       "    <tr>\n",
       "      <th>3</th>\n",
       "      <td>PWS1686286111693</td>\n",
       "      <td>TITRE: Pwshymi-Canapé-lit avec porte-gobelets ...</td>\n",
       "    </tr>\n",
       "    <tr>\n",
       "      <th>4</th>\n",
       "      <td>AUC9189449634296</td>\n",
       "      <td>TITRE: Plus Moderne© Canapé 2 places relax | D...</td>\n",
       "    </tr>\n",
       "  </tbody>\n",
       "</table>\n",
       "</div>"
      ],
      "text/plain": [
       "         product_id                                         fp_content\n",
       "0  AUC4803243591214  TITRE: Elégant Canapé droit fixe 2 places - Ca...\n",
       "1  AUC9419864504530  TITRE: 13262Haut de gamme® Canapé de Relaxatio...\n",
       "2  AUC3026654499486  TITRE: MARKET Canapé-lit réglable, Canapé en l...\n",
       "3  PWS1686286111693  TITRE: Pwshymi-Canapé-lit avec porte-gobelets ...\n",
       "4  AUC9189449634296  TITRE: Plus Moderne© Canapé 2 places relax | D..."
      ]
     },
     "execution_count": 4,
     "metadata": {},
     "output_type": "execute_result"
    }
   ],
   "source": [
    "query = \"\"\"\n",
    "SELECT DISTINCT\n",
    "    PRODUCT_ID,\n",
    "    CONCAT(\n",
    "        'TITRE: ', FP_PRODUCT_NAME, '\\n',\n",
    "        'DESCRIPTION:\\n',\n",
    "        IFF(\n",
    "            SUBSTRING(PRODUCT_SHORT_DESCRIPTION, 1, 250) = SUBSTRING(PRODUCT_LONG_DESCRIPTION, 1, 250),\n",
    "            '',\n",
    "            CONCAT(PRODUCT_SHORT_DESCRIPTION, '\\n')\n",
    "        ),\n",
    "        PRODUCT_LONG_DESCRIPTION\n",
    "    ) AS FP_CONTENT\n",
    "FROM QUALISCORE_LAB.LAB_STAGE_VINCENT_CANAPES_WITH_PROPERTIES;\n",
    "\"\"\"\n",
    "with get_snowflake_connection(**SNOW_SECRETS) as con:\n",
    "    products = query_snowflake_to_df(sql_query_or_path=query, con=con)\n",
    "print(len(products))\n",
    "print(products.product_id.nunique())\n",
    "products.head(5)"
   ]
  },
  {
   "cell_type": "code",
   "execution_count": 5,
   "id": "0e100adc-81b3-4c85-8de2-aa6205cad861",
   "metadata": {
    "tags": []
   },
   "outputs": [
    {
     "name": "stdout",
     "output_type": "stream",
     "text": [
      "TITRE: Elégant Canapé droit fixe 2 places - Canapé Sofa Divan Contemporain Scandinave Canapé de salon Rouge bordeaux Tissu ☺54985\n",
      "DESCRIPTION:\n",
      "⭐⭐⭐⭐⭐Canapé droit fixe 2 places - Canapé Sofa Divan Contemporain Scandinave Canapé de salon Rouge bordeaux Tissu\n"
     ]
    }
   ],
   "source": [
    "print(products.fp_content.values[0])"
   ]
  },
  {
   "cell_type": "code",
   "execution_count": 6,
   "id": "10de9518-d2d9-45f2-b317-3055b2139a1e",
   "metadata": {
    "tags": []
   },
   "outputs": [],
   "source": [
    "products.set_index('product_id', inplace=True)"
   ]
  },
  {
   "cell_type": "code",
   "execution_count": 7,
   "id": "338d2a3c-0e58-4c9c-a8f0-e2a534f6404d",
   "metadata": {
    "tags": []
   },
   "outputs": [],
   "source": [
    "class OpenAIEmbedder:\n",
    "\n",
    "    def __init__(\n",
    "        self,\n",
    "        azure_config: AzureOpenAIConfig,\n",
    "        model_name: str,\n",
    "        limiter: Limiter,\n",
    "    ):\n",
    "        self.model_name = model_name\n",
    "        self._limiter = limiter\n",
    "        self.api_url: str = self._build_api_url(azure_config)\n",
    "        self.private_key: str = azure_config[\"private_key\"]\n",
    "        self.expected_embedding_size: int = azure_config[\"expected_embedding_size\"]\n",
    "        \n",
    "    @staticmethod\n",
    "    def _build_api_url(azure_config: Union[AzureOpenAIConfig, Dict]) -> str:\n",
    "        try:\n",
    "            url = \"/\".join(\n",
    "                [\n",
    "                    f\"https://{azure_config['resource_name']}.openai.azure.com\",\n",
    "                    f\"openai/deployments/{azure_config['deployment_name']}\",\n",
    "                    f\"{azure_config['model_usage']}\"\n",
    "                ]\n",
    "            )\n",
    "            parameters = f\"api-version={azure_config['api_version']}\"\n",
    "            complete_url = \"?\".join([url, parameters])\n",
    "\n",
    "        except KeyError as e:\n",
    "            raise Exception(f\"Missing parameter in azure configuration : {e}\")\n",
    "            complete_url = \"\"\n",
    "\n",
    "        return complete_url   \n",
    "    \n",
    "    def embed(self, document: str, retry: int=5, sleep=5) -> (str, int, int): \n",
    "        headers = {\"Content-Type\": \"application/json\", \"api-key\": self.private_key}\n",
    "        data = {\n",
    "            \"input\": document,\n",
    "            \"model\": self.model_name\n",
    "        }\n",
    "        \n",
    "        try:\n",
    "            self._limiter.wait_until_available()\n",
    "            r = requests.post(url=self.api_url, headers=headers, json=data, timeout=30)\n",
    "        except ReadTimeout:\n",
    "            r = requests.Response()\n",
    "            r.status_code = 408\n",
    "        except (OSError, NewConnectionError, MaxRetryError, gaierror):\n",
    "            r = requests.Response()\n",
    "            r.status_code = 500\n",
    "        finally:\n",
    "            self._limiter.commit()\n",
    "\n",
    "        try:\n",
    "            r = r.json()\n",
    "            embedding = r['data'][0]['embedding']\n",
    "            total_tokens = r['usage']['total_tokens']\n",
    "            return embedding, total_tokens\n",
    "            # return [d[\"embedding\"] for d in r.json()[\"data\"]]\n",
    "        except Exception as e:\n",
    "            if retry:\n",
    "                # print('Retrying')\n",
    "                time.sleep(sleep)\n",
    "                return self.embed(document=document, retry=retry - 1, sleep=sleep)\n",
    "        return [0.0] * self.expected_embedding_size, -1"
   ]
  },
  {
   "cell_type": "code",
   "execution_count": 8,
   "id": "29b5e2c3-f591-49e2-b3e6-5075d545ec02",
   "metadata": {
    "tags": []
   },
   "outputs": [],
   "source": [
    "model_name = \"text-embedding-ada-002\"\n",
    "azure_config = AzureOpenAIConfig(**AZURE_SECRETS)\n",
    "limiter = Limiter(condition='10000/minute')\n",
    "embedder = OpenAIEmbedder(azure_config=azure_config, model_name=model_name, limiter=limiter)"
   ]
  },
  {
   "cell_type": "code",
   "execution_count": 9,
   "id": "14f01e19-7d3f-4f80-89aa-574d8b73fa02",
   "metadata": {
    "tags": []
   },
   "outputs": [
    {
     "data": {
      "text/plain": [
       "1536"
      ]
     },
     "execution_count": 9,
     "metadata": {},
     "output_type": "execute_result"
    }
   ],
   "source": [
    "embeddings, total_tokens = embedder.embed(document=products.fp_content.to_list()[0:2])\n",
    "len(embeddings)"
   ]
  },
  {
   "cell_type": "code",
   "execution_count": 10,
   "id": "79652aa7-5401-4af8-a86b-8a7d3e9e16b6",
   "metadata": {
    "tags": []
   },
   "outputs": [],
   "source": [
    "schema = 'QUALISCORE_LAB'\n",
    "table = 'LAB_STAGE_VINCENT_CANAPES_EMBEDDINGS'"
   ]
  },
  {
   "cell_type": "code",
   "execution_count": 16,
   "id": "22092e23-917a-4dd0-b958-ccf0832f6f71",
   "metadata": {
    "tags": []
   },
   "outputs": [],
   "source": [
    "# query = f\"\"\"\n",
    "# CREATE TABLE IF NOT EXISTS {schema}.{table} (\n",
    "#     PRODUCT_ID VARCHAR(500),\n",
    "#     EMBEDDING ARRAY,\n",
    "#     TOTAL_TOKEN NUMBER(6, 0)\n",
    "# )\n",
    "# \"\"\"\n",
    "# print(query)\n",
    "# # query = f\"\"\"DROP TABLE {schema}.{table}\"\"\"\n",
    "# with get_snowflake_connection(**SNOW_SECRETS) as con:\n",
    "#     res = query_snowflake_to_df(sql_query_or_path=query, con=con)\n",
    "#     print(res)"
   ]
  },
  {
   "cell_type": "code",
   "execution_count": 25,
   "id": "b5b06b9a-4c69-481d-a36b-454c3335edad",
   "metadata": {
    "tags": []
   },
   "outputs": [
    {
     "name": "stderr",
     "output_type": "stream",
     "text": [
      "  0%|          | 1/102877 [00:02<78:44:12,  2.76s/it]"
     ]
    },
    {
     "name": "stdout",
     "output_type": "stream",
     "text": [
      "{'number of rows inserted': 1}\n"
     ]
    },
    {
     "name": "stderr",
     "output_type": "stream",
     "text": [
      "\n"
     ]
    }
   ],
   "source": [
    "n = len(products)\n",
    "# n = 1000\n",
    "batch_size = 1000\n",
    "embeddings = []\n",
    "total_tokens = []\n",
    "product_ids = []\n",
    "for product_id, row in tqdm(products.head(n).iterrows(), total=n):\n",
    "    embedding, total_token = embedder.embed(document=row['fp_content'])\n",
    "    product_ids.append(product_id)\n",
    "    embeddings.append(embedding)\n",
    "    total_tokens.append(total_token)\n",
    "    if len(embeddings) == batch_size:\n",
    "        with get_snowflake_connection(**SNOW_SECRETS) as con:\n",
    "            res = push_to_snowflake(\n",
    "                data=pd.DataFrame({\n",
    "                    'product_id': product_ids,\n",
    "                    'embedding': embeddings,\n",
    "                    'total_token': total_tokens\n",
    "                }),\n",
    "                schema=schema,\n",
    "                table=table,\n",
    "                push_method='insert',\n",
    "                con=con\n",
    "            )\n",
    "            print(res)\n",
    "        embeddings = []\n",
    "        total_tokens = []\n",
    "        product_ids = []"
   ]
  },
  {
   "cell_type": "code",
   "execution_count": 26,
   "id": "7c814500-d891-4c66-bc09-42cec9929c9a",
   "metadata": {},
   "outputs": [
    {
     "data": {
      "text/html": [
       "<div>\n",
       "<style scoped>\n",
       "    .dataframe tbody tr th:only-of-type {\n",
       "        vertical-align: middle;\n",
       "    }\n",
       "\n",
       "    .dataframe tbody tr th {\n",
       "        vertical-align: top;\n",
       "    }\n",
       "\n",
       "    .dataframe thead th {\n",
       "        text-align: right;\n",
       "    }\n",
       "</style>\n",
       "<table border=\"1\" class=\"dataframe\">\n",
       "  <thead>\n",
       "    <tr style=\"text-align: right;\">\n",
       "      <th></th>\n",
       "      <th>count(*)</th>\n",
       "      <th>count(distinct product_id)</th>\n",
       "    </tr>\n",
       "  </thead>\n",
       "  <tbody>\n",
       "    <tr>\n",
       "      <th>0</th>\n",
       "      <td>102877</td>\n",
       "      <td>102877</td>\n",
       "    </tr>\n",
       "  </tbody>\n",
       "</table>\n",
       "</div>"
      ],
      "text/plain": [
       "   count(*)  count(distinct product_id)\n",
       "0    102877                      102877"
      ]
     },
     "execution_count": 26,
     "metadata": {},
     "output_type": "execute_result"
    }
   ],
   "source": [
    "query = f\"\"\"\n",
    "SELECT COUNT(*), COUNT(DISTINCT PRODUCT_ID)\n",
    "FROM {schema}.{table};\n",
    "\"\"\"\n",
    "with get_snowflake_connection(**SNOW_SECRETS) as con:\n",
    "    res = query_snowflake_to_df(sql_query_or_path=query, con=con)\n",
    "res"
   ]
  },
  {
   "cell_type": "markdown",
   "id": "d4775112-f532-4cfd-abdf-0ef981a8efa5",
   "metadata": {},
   "source": [
    "# Load a sample of the vector database"
   ]
  },
  {
   "cell_type": "code",
   "execution_count": 27,
   "id": "d84215d8-d010-4f74-8bc7-764514ced036",
   "metadata": {
    "tags": []
   },
   "outputs": [
    {
     "name": "stdout",
     "output_type": "stream",
     "text": [
      "10307\n"
     ]
    },
    {
     "data": {
      "text/html": [
       "<div>\n",
       "<style scoped>\n",
       "    .dataframe tbody tr th:only-of-type {\n",
       "        vertical-align: middle;\n",
       "    }\n",
       "\n",
       "    .dataframe tbody tr th {\n",
       "        vertical-align: top;\n",
       "    }\n",
       "\n",
       "    .dataframe thead th {\n",
       "        text-align: right;\n",
       "    }\n",
       "</style>\n",
       "<table border=\"1\" class=\"dataframe\">\n",
       "  <thead>\n",
       "    <tr style=\"text-align: right;\">\n",
       "      <th></th>\n",
       "      <th>product_id</th>\n",
       "      <th>embedding</th>\n",
       "      <th>total_token</th>\n",
       "    </tr>\n",
       "  </thead>\n",
       "  <tbody>\n",
       "    <tr>\n",
       "      <th>0</th>\n",
       "      <td>DIO7842688800243</td>\n",
       "      <td>[\\n  4.284476400000000e-03,\\n  -5.277681000000...</td>\n",
       "      <td>163</td>\n",
       "    </tr>\n",
       "    <tr>\n",
       "      <th>1</th>\n",
       "      <td>LAM2009847077464</td>\n",
       "      <td>[\\n  5.956652600000000e-03,\\n  -1.165532700000...</td>\n",
       "      <td>118</td>\n",
       "    </tr>\n",
       "    <tr>\n",
       "      <th>2</th>\n",
       "      <td>UNB0086801898572</td>\n",
       "      <td>[\\n  -9.640782000000001e-03,\\n  -5.24768330000...</td>\n",
       "      <td>66</td>\n",
       "    </tr>\n",
       "  </tbody>\n",
       "</table>\n",
       "</div>"
      ],
      "text/plain": [
       "         product_id                                          embedding  \\\n",
       "0  DIO7842688800243  [\\n  4.284476400000000e-03,\\n  -5.277681000000...   \n",
       "1  LAM2009847077464  [\\n  5.956652600000000e-03,\\n  -1.165532700000...   \n",
       "2  UNB0086801898572  [\\n  -9.640782000000001e-03,\\n  -5.24768330000...   \n",
       "\n",
       "   total_token  \n",
       "0          163  \n",
       "1          118  \n",
       "2           66  "
      ]
     },
     "execution_count": 27,
     "metadata": {},
     "output_type": "execute_result"
    }
   ],
   "source": [
    "query = f\"\"\"\n",
    "SELECT *\n",
    "FROM {schema}.{table}\n",
    "SAMPLE (10) SEED(42);\n",
    "\"\"\"\n",
    "with get_snowflake_connection(**SNOW_SECRETS) as con:\n",
    "    embedded_products = query_snowflake_to_df(sql_query_or_path=query, con=con)\n",
    "print(len(embedded_products))\n",
    "embedded_products.head(3)"
   ]
  },
  {
   "cell_type": "code",
   "execution_count": 28,
   "id": "defcf4a7-2a63-4a37-a743-7c2b3d053e9b",
   "metadata": {
    "tags": []
   },
   "outputs": [],
   "source": [
    "embedded_products['embedding'] = embedded_products.embedding.apply(eval)"
   ]
  },
  {
   "cell_type": "code",
   "execution_count": 29,
   "id": "99591526-1f04-4032-a838-1fa0c24ef191",
   "metadata": {
    "tags": []
   },
   "outputs": [],
   "source": [
    "embedded_products = embedded_products.merge(right=products, how='inner', on='product_id')"
   ]
  },
  {
   "cell_type": "code",
   "execution_count": 30,
   "id": "bf25bbc5-11d4-40c6-b7ce-32051e770711",
   "metadata": {
    "tags": []
   },
   "outputs": [
    {
     "data": {
      "text/plain": [
       "True"
      ]
     },
     "execution_count": 30,
     "metadata": {},
     "output_type": "execute_result"
    }
   ],
   "source": [
    "np.all(~embedded_products.embedding.apply(lambda x: np.all(x == 0.0)))"
   ]
  },
  {
   "cell_type": "code",
   "execution_count": 31,
   "id": "63d1cfe8-31ed-4edf-9329-c9a056c9ebef",
   "metadata": {
    "tags": []
   },
   "outputs": [
    {
     "data": {
      "text/plain": [
       "(array([1.470e+02, 1.121e+03, 2.935e+03, 5.404e+03, 6.430e+02, 2.700e+01,\n",
       "        2.000e+01, 7.000e+00, 0.000e+00, 0.000e+00, 1.000e+00, 0.000e+00,\n",
       "        0.000e+00, 0.000e+00, 0.000e+00, 0.000e+00, 0.000e+00, 0.000e+00,\n",
       "        0.000e+00, 0.000e+00, 0.000e+00, 0.000e+00, 0.000e+00, 0.000e+00,\n",
       "        0.000e+00, 0.000e+00, 0.000e+00, 0.000e+00, 1.000e+00, 0.000e+00,\n",
       "        0.000e+00]),\n",
       " array([   0.,   50.,  100.,  150.,  200.,  250.,  300.,  350.,  400.,\n",
       "         450.,  500.,  550.,  600.,  650.,  700.,  750.,  800.,  850.,\n",
       "         900.,  950., 1000., 1050., 1100., 1150., 1200., 1250., 1300.,\n",
       "        1350., 1400., 1450., 1500., 1550.]),\n",
       " <BarContainer object of 31 artists>)"
      ]
     },
     "execution_count": 31,
     "metadata": {},
     "output_type": "execute_result"
    },
    {
     "data": {
      "image/png": "[encoded data removed]",
      "text/plain": [
       "<Figure size 640x480 with 1 Axes>"
      ]
     },
     "metadata": {},
     "output_type": "display_data"
    }
   ],
   "source": [
    "plt.hist(embedded_products.total_token, bins=np.arange(0, 1600, 50))"
   ]
  },
  {
   "cell_type": "code",
   "execution_count": 32,
   "id": "93c9996f-c7eb-4e3d-a9bd-1bfbc0da92cf",
   "metadata": {
    "tags": []
   },
   "outputs": [
    {
     "data": {
      "text/plain": [
       "True"
      ]
     },
     "execution_count": 32,
     "metadata": {},
     "output_type": "execute_result"
    }
   ],
   "source": [
    "t = AnnoyIndex(AZURE_SECRETS['expected_embedding_size'], 'dot')\n",
    "for i, v in enumerate(embedded_products.embedding):\n",
    "    t.add_item(i, v)\n",
    "t.build(n_trees=100, n_jobs=-1)\n",
    "vdb_file = 'embeddings.ann'\n",
    "t.save(vdb_file)"
   ]
  },
  {
   "cell_type": "code",
   "execution_count": 33,
   "id": "ea87e44d-3912-4df4-8f1a-d123964a9081",
   "metadata": {
    "tags": []
   },
   "outputs": [
    {
     "name": "stdout",
     "output_type": "stream",
     "text": [
      "[2096, 7156, 5280, 10262, 7616]\n",
      "[0.98804462 0.98637015 0.98219055 0.98020816 0.97957128]\n",
      "[[0.20096975 0.20062916 0.19977902 0.1993758  0.19924626]]\n"
     ]
    }
   ],
   "source": [
    "u = AnnoyIndex(AZURE_SECRETS['expected_embedding_size'], 'dot')\n",
    "u.load(vdb_file)\n",
    "k = 5\n",
    "i = 0\n",
    "neighbors, distances = u.get_nns_by_item(i=i, n=k+1, include_distances=True)\n",
    "neighbors = neighbors[1:k+1]\n",
    "distances = np.array(distances[1:k+1])\n",
    "print(neighbors)\n",
    "print(distances)\n",
    "print(normalize(np.expand_dims(distances, axis=0), norm='l1'))"
   ]
  },
  {
   "cell_type": "code",
   "execution_count": 34,
   "id": "949f8982-7973-4276-8b02-9c6ac93f45b6",
   "metadata": {
    "tags": []
   },
   "outputs": [
    {
     "name": "stdout",
     "output_type": "stream",
     "text": [
      "TITRE: Canapé-lit Rouge bordeaux Polyester DIOCHE7842688800243\n",
      "DESCRIPTION:\n",
      "Couleur: Rouge bordeaux. Matériau: cadre en bois + revêtement en polyester + pieds chromés. Transformation facile en lit. Dimensions du canapé:. Dimensions totales: 168 x 76 x 66 cm (L x l x H). Ajustable en 3 positions. Profondeur d'assise: 41 cm. Largeur d'assise: 168 cm. Hauteur du siège à partir du sol: 28 cm. Dimensions du lit (lorsqu'il est complètement étendu):. Dimensions totales: 168 x 82 x 30 cm (L x l x H)\n"
     ]
    }
   ],
   "source": [
    "print(embedded_products.fp_content.iloc[i])"
   ]
  },
  {
   "cell_type": "code",
   "execution_count": 35,
   "id": "0e14a538-9caf-4c89-8fc0-7b7bc2a1c608",
   "metadata": {
    "tags": []
   },
   "outputs": [
    {
     "name": "stdout",
     "output_type": "stream",
     "text": [
      "TITRE: Canapé-lit Rouge bordeaux Polyester\n",
      "DESCRIPTION:\n",
      "●Couleur : Rouge bordeaux●Matériau : cadre en bois + revêtement en polyester + pieds chromés●Transformation facile en lit●Dimensions du canapé :●Dimensions totales : 168 x 76 x 66 cm (L x l x H)●Ajustable en 3 positions●Profondeur d'assise : 41 cm●Largeur d'assise : 168 cm●Hauteur du siège à partir du sol : 28 cm●Dimensions du lit (lorsqu'il est complètement étendu) :●Dimensions totales : 168 x 82 x 30 cm (L x l x\n",
      "\n",
      "\n",
      "TITRE: Canapé-lit avec accoudoir Rouge bordeaux Polyester\n",
      "DESCRIPTION:\n",
      "Couleur : Rouge bordeauxMatériau : cadre en bois + revêtement en polyester + pieds chromésDimensions totales du canapé : 184 x 77,5 x (60,5 / 64 / 66,5) cm (l x P x H)Dimensions du lit (lorsqu'il est entièrement étendu): 168 x 84 x 28 cm (L x l x H)Largeur d'assise : 168 cmProfondeur d'assise : 41 cmHauteur du siège à partir du sol : 28 cmHauteur du dossier : 42 cmLe dossier peut être ajusté en 3 positions\n",
      "\n",
      "\n",
      "TITRE: Canapé-lit Rouge bordeaux Polyester #282200 -FOE\n",
      "DESCRIPTION:\n",
      "➽Couleur : Rouge bordeaux➽Matériau : cadre en bois + revêtement en polyester + pieds chromés➽Transformation facile en lit➽Dimensions du canapé :➽Dimensions totales : 168 x 76 x 66 cm (L x l x H)➽Ajustable en 3 positions➽Profondeur d'assise : 41 cm➽Largeur d'assise : 168 cm➽Hauteur du siège à partir du sol : 28 cm➽Dimensions du lit (lorsqu'il est complètement étendu) :➽Dimensions totales : 168 x 82 x 30 cm (L x l x\n",
      "\n",
      "\n",
      "TITRE: Canapé-lit avec deux oreillers Rouge bordeaux Polyester-DIN\n",
      "DESCRIPTION:\n",
      "★Couleur : Rouge bordeaux★Matériau : cadre en bois + revêtement en polyester + pieds chromés★Transformation facile en lit★★Dimensions du canapé :★★Dimensions totales : 168 x 77 x (61,5 / 64 / 66) cm (L x l x H)★Largeur d'assise : 168 cm★Profondeur d'assise : 41 cm★Hauteur du dossier : 41 cm★Hauteur du siège à partir du sol : 30 cm★Ajustable en 3 positions★★Dimensions du lit (lorsqu'il est complètement étendu)\n",
      "\n",
      "\n",
      "TITRE: SIB Canapé-lit Rouge bordeaux Polyester 7686514945391\n",
      "DESCRIPTION:\n",
      "ZJC7686514945391 Couleur: Rouge bordeaux. Matériau: cadre en bois + revêtement en polyester + pieds chromés. Transformation facile en lit. Dimensions du canapé:. Dimensions totales: 168 x 76 x 66 cm (L x l x H). Ajustable en 3 positions. Profondeur d'assise: 41 cm. Largeur d'assise: 168 cm. Hauteur du siège à partir du sol: 28 cm. Dimensions du lit (lorsqu'il est complètement étendu):. Dimensions totales: 168 x 82\n",
      "\n",
      "\n"
     ]
    }
   ],
   "source": [
    "for i in embedded_products.iloc[neighbors].fp_content:\n",
    "    print(i)\n",
    "    print('\\n')"
   ]
  },
  {
   "cell_type": "markdown",
   "id": "cba13947-90cb-4049-acf8-552f6ccf0c59",
   "metadata": {
    "tags": []
   },
   "source": [
    "# Load all vector database by batch"
   ]
  },
  {
   "cell_type": "code",
   "execution_count": 11,
   "id": "69bc9a24-b22f-4ecb-887c-5178fe830aa7",
   "metadata": {
    "tags": []
   },
   "outputs": [
    {
     "name": "stdout",
     "output_type": "stream",
     "text": [
      " 78835/102877\r"
     ]
    },
    {
     "data": {
      "text/plain": [
       "True"
      ]
     },
     "execution_count": 11,
     "metadata": {},
     "output_type": "execute_result"
    }
   ],
   "source": [
    "query = f\"\"\"\n",
    "SELECT P.*\n",
    "FROM {schema}.{table} AS P\n",
    "INNER JOIN (\n",
    "        SELECT DISTINCT PRODUCT_ID\n",
    "        FROM SEARCH_DLK.DLK_SCH_REF_PUBLISHED_OFFER\n",
    "    ) AS O\n",
    "    ON P.PRODUCT_ID = O.PRODUCT_ID\n",
    "\"\"\"\n",
    "i = 0\n",
    "product_ids = []\n",
    "t = AnnoyIndex(AZURE_SECRETS['expected_embedding_size'], 'dot')\n",
    "with get_snowflake_connection(**SNOW_SECRETS) as con:\n",
    "    # En passant le chemin du fichier contenant la requête SQL, et en récupérant un dataframe pandas\n",
    "    for embeddings in query_snowflake_to_df_batches(sql_query_or_path=query, con=con):\n",
    "        product_ids += embeddings.product_id.to_list()\n",
    "        embeddings = embeddings.embedding.apply(eval)\n",
    "        for embedding in embeddings:\n",
    "            t.add_item(i, embedding)\n",
    "            i += 1\n",
    "            print(f\"{i:6d}/{len(products)}\", end='\\r')\n",
    "t.build(n_trees=100, n_jobs=-1)\n",
    "vdb_file = 'data/20231025_stage_vincent_openai_embeddings.ann'\n",
    "t.save(vdb_file)"
   ]
  },
  {
   "cell_type": "code",
   "execution_count": 12,
   "id": "52884f03-0abb-40dc-9446-94eba758b8aa",
   "metadata": {
    "tags": []
   },
   "outputs": [
    {
     "name": "stdout",
     "output_type": "stream",
     "text": [
      "78835\n"
     ]
    },
    {
     "data": {
      "text/html": [
       "<div>\n",
       "<style scoped>\n",
       "    .dataframe tbody tr th:only-of-type {\n",
       "        vertical-align: middle;\n",
       "    }\n",
       "\n",
       "    .dataframe tbody tr th {\n",
       "        vertical-align: top;\n",
       "    }\n",
       "\n",
       "    .dataframe thead th {\n",
       "        text-align: right;\n",
       "    }\n",
       "</style>\n",
       "<table border=\"1\" class=\"dataframe\">\n",
       "  <thead>\n",
       "    <tr style=\"text-align: right;\">\n",
       "      <th></th>\n",
       "      <th>product_id</th>\n",
       "      <th>fp_content</th>\n",
       "    </tr>\n",
       "  </thead>\n",
       "  <tbody>\n",
       "    <tr>\n",
       "      <th>0</th>\n",
       "      <td>ATY7049254831551</td>\n",
       "      <td>TITRE: Atyhao Canapé-lit avec accoudoirs jaune...</td>\n",
       "    </tr>\n",
       "    <tr>\n",
       "      <th>1</th>\n",
       "      <td>AKO7370392809059</td>\n",
       "      <td>TITRE: Canapé-lit avec porte-gobelets gris fon...</td>\n",
       "    </tr>\n",
       "    <tr>\n",
       "      <th>2</th>\n",
       "      <td>OMA1695359450253</td>\n",
       "      <td>TITRE: Omabeta housse de canapé extensible Hou...</td>\n",
       "    </tr>\n",
       "  </tbody>\n",
       "</table>\n",
       "</div>"
      ],
      "text/plain": [
       "         product_id                                         fp_content\n",
       "0  ATY7049254831551  TITRE: Atyhao Canapé-lit avec accoudoirs jaune...\n",
       "1  AKO7370392809059  TITRE: Canapé-lit avec porte-gobelets gris fon...\n",
       "2  OMA1695359450253  TITRE: Omabeta housse de canapé extensible Hou..."
      ]
     },
     "execution_count": 12,
     "metadata": {},
     "output_type": "execute_result"
    }
   ],
   "source": [
    "embedded_products = (\n",
    "    pd.DataFrame({'product_id': product_ids})\n",
    "    .merge(right=products, how='left', on='product_id')\n",
    ")\n",
    "print(len(embedded_products))\n",
    "embedded_products.head(3)"
   ]
  },
  {
   "cell_type": "code",
   "execution_count": 25,
   "id": "a53f6287-d615-4f45-80cc-748a62905a30",
   "metadata": {},
   "outputs": [
    {
     "name": "stdout",
     "output_type": "stream",
     "text": [
      "[9694, 20724, 72424, 29866, 51138]\n",
      "[0.99955821 0.99466342 0.99462736 0.99347198 0.9915266 ]\n",
      "[[0.20096278 0.19997867 0.19997142 0.19973913 0.19934801]]\n"
     ]
    }
   ],
   "source": [
    "u = AnnoyIndex(AZURE_SECRETS['expected_embedding_size'], 'dot')\n",
    "u.load(vdb_file)\n",
    "k = 5\n",
    "i = 4\n",
    "neighbors, distances = u.get_nns_by_item(i=i, n=k+1, include_distances=True)\n",
    "neighbors = neighbors[1:k+1]\n",
    "distances = np.array(distances[1:k+1])\n",
    "print(neighbors)\n",
    "print(distances)\n",
    "print(normalize(np.expand_dims(distances, axis=0), norm='l1'))"
   ]
  },
  {
   "cell_type": "code",
   "execution_count": 26,
   "id": "c2a570f4-71e7-4f84-8f74-ca1b3611fad1",
   "metadata": {},
   "outputs": [
    {
     "name": "stdout",
     "output_type": "stream",
     "text": [
      "TITRE: Housses de Canapé - Protection du Sofa - pour canapé d'angle en forme de L 3+2 places - Café LAN9458\n",
      "DESCRIPTION:\n",
      "Fabriqué en polyester de haute qualité, doux, confortable à asseoir et durable Une couleur simple et élégante donne à vos meubles un tout nouveau look, idéal pour un canapé à la maison\n"
     ]
    }
   ],
   "source": [
    "print(embedded_products.fp_content.iloc[i])"
   ]
  },
  {
   "cell_type": "code",
   "execution_count": 27,
   "id": "d1fa3042-9d78-4d9e-9e4c-9f386f3185d6",
   "metadata": {
    "tags": []
   },
   "outputs": [
    {
     "name": "stdout",
     "output_type": "stream",
     "text": [
      "TITRE: Housses de Canapé - Protection du Sofa - pour canapé d'angle en forme de L 3+2 places - Café LAN9462\n",
      "DESCRIPTION:\n",
      "Fabriqué en polyester de haute qualité, doux, confortable à asseoir et durable Une couleur simple et élégante donne à vos meubles un tout nouveau look, idéal pour un canapé à la maison\n",
      "\n",
      "\n",
      "TITRE: Housses de Canapé - Protection du Sofa - pour canapé d'angle en forme de L 3+2 places - Café LAN9460\n",
      "DESCRIPTION:\n",
      "Une couleur simple et élégante donne à vos meubles un tout nouveau look, idéal pour un canapé à la maison Fabriqué en polyester de haute qualité, doux, confortable à asseoir et durable\n",
      "\n",
      "\n",
      "TITRE: Housses de Canapé - Protection du Sofa - pour canapé d'angle en forme de L 3+2 places - Café CEN-36\n",
      "DESCRIPTION:\n",
      "Fabriqué en polyester de haute qualité, doux, confortable à asseoir et durable Une couleur simple et élégante donne à vos meubles un tout nouveau look, idéal pour un canapé à la maison\n",
      "\n",
      "\n",
      "TITRE: Housses de Canapé - Protection du Sofa - pour canapé d'angle en forme de L 3+2 places - Café CEN-40\n",
      "DESCRIPTION:\n",
      "Fabriqué en polyester de haute qualité, doux, confortable à asseoir et durable Une couleur simple et élégante donne à vos meubles un tout nouveau look, idéal pour un canapé à la maison\n",
      "\n",
      "\n",
      "TITRE: Housses de Canapé - Protection du Sofa - pour canapé d'angle en forme de L 3+2 places - Café HAO-36\n",
      "DESCRIPTION:\n",
      "Fabriqué en polyester de haute qualité, doux, confortable à asseoir et durable Une couleur simple et élégante donne à vos meubles un tout nouveau look, idéal pour un canapé à la maison\n",
      "\n",
      "\n"
     ]
    }
   ],
   "source": [
    "for i in embedded_products.iloc[neighbors].fp_content:\n",
    "    print(i)\n",
    "    print('\\n')"
   ]
  },
  {
   "cell_type": "code",
   "execution_count": null,
   "id": "86ffd87e-232e-46f3-b122-a3d16f8b8446",
   "metadata": {},
   "outputs": [],
   "source": []
  },
  {
   "cell_type": "code",
   "execution_count": null,
   "id": "a87801ff-896b-408d-b8f7-dd357db49057",
   "metadata": {},
   "outputs": [],
   "source": [
    "# 0.0001 for 1,000 tokens"
   ]
  },
  {
   "cell_type": "code",
   "execution_count": 17,
   "id": "9e869d14-11cc-45ed-a534-06efc067f92c",
   "metadata": {
    "tags": []
   },
   "outputs": [
    {
     "data": {
      "text/html": [
       "<div>\n",
       "<style scoped>\n",
       "    .dataframe tbody tr th:only-of-type {\n",
       "        vertical-align: middle;\n",
       "    }\n",
       "\n",
       "    .dataframe tbody tr th {\n",
       "        vertical-align: top;\n",
       "    }\n",
       "\n",
       "    .dataframe thead th {\n",
       "        text-align: right;\n",
       "    }\n",
       "</style>\n",
       "<table border=\"1\" class=\"dataframe\">\n",
       "  <thead>\n",
       "    <tr style=\"text-align: right;\">\n",
       "      <th></th>\n",
       "      <th>product_id</th>\n",
       "      <th>total_token</th>\n",
       "    </tr>\n",
       "  </thead>\n",
       "  <tbody>\n",
       "    <tr>\n",
       "      <th>0</th>\n",
       "      <td>VBE1684907193839</td>\n",
       "      <td>115</td>\n",
       "    </tr>\n",
       "    <tr>\n",
       "      <th>1</th>\n",
       "      <td>MIC5903614335436</td>\n",
       "      <td>184</td>\n",
       "    </tr>\n",
       "    <tr>\n",
       "      <th>2</th>\n",
       "      <td>VEN3666471045550</td>\n",
       "      <td>145</td>\n",
       "    </tr>\n",
       "  </tbody>\n",
       "</table>\n",
       "</div>"
      ],
      "text/plain": [
       "         product_id  total_token\n",
       "0  VBE1684907193839          115\n",
       "1  MIC5903614335436          184\n",
       "2  VEN3666471045550          145"
      ]
     },
     "execution_count": 17,
     "metadata": {},
     "output_type": "execute_result"
    }
   ],
   "source": [
    "query = f\"\"\"\n",
    "SELECT PRODUCT_ID, TOTAL_TOKEN\n",
    "FROM {schema}.{table};\n",
    "\"\"\"\n",
    "with get_snowflake_connection(**SNOW_SECRETS) as con:\n",
    "    total_tokens = query_snowflake_to_df(sql_query_or_path=query, con=con)\n",
    "total_tokens.head(3)"
   ]
  },
  {
   "cell_type": "code",
   "execution_count": 20,
   "id": "540eda45-4725-4196-8767-1b1f7c3ea76d",
   "metadata": {
    "tags": []
   },
   "outputs": [
    {
     "data": {
      "text/plain": [
       "1.5738151"
      ]
     },
     "execution_count": 20,
     "metadata": {},
     "output_type": "execute_result"
    }
   ],
   "source": [
    "0.0001 * total_tokens.total_token.sum() / 1000"
   ]
  },
  {
   "cell_type": "code",
   "execution_count": 21,
   "id": "5d179a9d-8867-48ef-a105-e67006905145",
   "metadata": {
    "tags": []
   },
   "outputs": [
    {
     "data": {
      "text/plain": [
       "1529.8026769831936"
      ]
     },
     "execution_count": 21,
     "metadata": {},
     "output_type": "execute_result"
    }
   ],
   "source": [
    "100_000_000 * 0.0001 * total_tokens.total_token.sum() / 1000 / 1028_77"
   ]
  },
  {
   "cell_type": "code",
   "execution_count": null,
   "id": "23eaf1c1-0a54-4743-914a-a77dbd864c3f",
   "metadata": {},
   "outputs": [],
   "source": []
  },
  {
   "cell_type": "code",
   "execution_count": 31,
   "id": "be4ba607-f4be-4aee-a973-59300162c38e",
   "metadata": {
    "tags": []
   },
   "outputs": [
    {
     "data": {
      "text/plain": [
       "True"
      ]
     },
     "execution_count": 31,
     "metadata": {},
     "output_type": "execute_result"
    }
   ],
   "source": [
    "u = AnnoyIndex(AZURE_SECRETS['expected_embedding_size'], 'dot')\n",
    "u.load(vdb_file)"
   ]
  },
  {
   "cell_type": "code",
   "execution_count": 45,
   "id": "c6e8ecc3-bfe0-4872-9121-885f4d4f2c47",
   "metadata": {
    "tags": []
   },
   "outputs": [],
   "source": [
    "def get_neighbors(u, i, k):\n",
    "    neighbors, distances = u.get_nns_by_item(i=i, n=k+1, include_distances=True)\n",
    "    return pd.DataFrame({\n",
    "        'id': i,\n",
    "        'rank': [j for j in range(1, k+1)],\n",
    "        'neighbor_id': neighbors[1:k+1],\n",
    "        'distance': distances[1:k+1]\n",
    "    })"
   ]
  },
  {
   "cell_type": "code",
   "execution_count": 42,
   "id": "c7bec0e7-aade-49b1-8835-78acfb04bbfc",
   "metadata": {
    "tags": []
   },
   "outputs": [
    {
     "data": {
      "text/plain": [
       "78835"
      ]
     },
     "execution_count": 42,
     "metadata": {},
     "output_type": "execute_result"
    }
   ],
   "source": [
    "u.get_n_items()"
   ]
  },
  {
   "cell_type": "code",
   "execution_count": 91,
   "id": "a65d6536-90c7-4e58-b399-e646c8fc920d",
   "metadata": {
    "tags": []
   },
   "outputs": [
    {
     "name": "stderr",
     "output_type": "stream",
     "text": [
      "100%|██████████| 78835/78835 [04:07<00:00, 318.63it/s]\n"
     ]
    }
   ],
   "source": [
    "all_neighbors = []\n",
    "for i in tqdm(range(0, u.get_n_items())):\n",
    "    all_neighbors.append(get_neighbors(u=u, i=i, k=50))\n",
    "all_neighbors = pd.concat(all_neighbors)"
   ]
  },
  {
   "cell_type": "code",
   "execution_count": 92,
   "id": "ecadea1f-c602-4931-adc0-6575a441833a",
   "metadata": {
    "tags": []
   },
   "outputs": [
    {
     "data": {
      "text/html": [
       "<div>\n",
       "<style scoped>\n",
       "    .dataframe tbody tr th:only-of-type {\n",
       "        vertical-align: middle;\n",
       "    }\n",
       "\n",
       "    .dataframe tbody tr th {\n",
       "        vertical-align: top;\n",
       "    }\n",
       "\n",
       "    .dataframe thead th {\n",
       "        text-align: right;\n",
       "    }\n",
       "</style>\n",
       "<table border=\"1\" class=\"dataframe\">\n",
       "  <thead>\n",
       "    <tr style=\"text-align: right;\">\n",
       "      <th></th>\n",
       "      <th>id</th>\n",
       "      <th>rank</th>\n",
       "      <th>neighbor_id</th>\n",
       "      <th>distance</th>\n",
       "    </tr>\n",
       "  </thead>\n",
       "  <tbody>\n",
       "    <tr>\n",
       "      <th>0</th>\n",
       "      <td>0</td>\n",
       "      <td>1</td>\n",
       "      <td>27290</td>\n",
       "      <td>0.999813</td>\n",
       "    </tr>\n",
       "    <tr>\n",
       "      <th>1</th>\n",
       "      <td>0</td>\n",
       "      <td>2</td>\n",
       "      <td>13917</td>\n",
       "      <td>0.999773</td>\n",
       "    </tr>\n",
       "    <tr>\n",
       "      <th>2</th>\n",
       "      <td>0</td>\n",
       "      <td>3</td>\n",
       "      <td>13660</td>\n",
       "      <td>0.999748</td>\n",
       "    </tr>\n",
       "    <tr>\n",
       "      <th>3</th>\n",
       "      <td>0</td>\n",
       "      <td>4</td>\n",
       "      <td>28178</td>\n",
       "      <td>0.999021</td>\n",
       "    </tr>\n",
       "    <tr>\n",
       "      <th>4</th>\n",
       "      <td>0</td>\n",
       "      <td>5</td>\n",
       "      <td>768</td>\n",
       "      <td>0.997327</td>\n",
       "    </tr>\n",
       "    <tr>\n",
       "      <th>...</th>\n",
       "      <td>...</td>\n",
       "      <td>...</td>\n",
       "      <td>...</td>\n",
       "      <td>...</td>\n",
       "    </tr>\n",
       "    <tr>\n",
       "      <th>45</th>\n",
       "      <td>78834</td>\n",
       "      <td>46</td>\n",
       "      <td>39072</td>\n",
       "      <td>0.957576</td>\n",
       "    </tr>\n",
       "    <tr>\n",
       "      <th>46</th>\n",
       "      <td>78834</td>\n",
       "      <td>47</td>\n",
       "      <td>20628</td>\n",
       "      <td>0.957116</td>\n",
       "    </tr>\n",
       "    <tr>\n",
       "      <th>47</th>\n",
       "      <td>78834</td>\n",
       "      <td>48</td>\n",
       "      <td>68253</td>\n",
       "      <td>0.957007</td>\n",
       "    </tr>\n",
       "    <tr>\n",
       "      <th>48</th>\n",
       "      <td>78834</td>\n",
       "      <td>49</td>\n",
       "      <td>6566</td>\n",
       "      <td>0.956644</td>\n",
       "    </tr>\n",
       "    <tr>\n",
       "      <th>49</th>\n",
       "      <td>78834</td>\n",
       "      <td>50</td>\n",
       "      <td>73634</td>\n",
       "      <td>0.956597</td>\n",
       "    </tr>\n",
       "  </tbody>\n",
       "</table>\n",
       "<p>3941750 rows × 4 columns</p>\n",
       "</div>"
      ],
      "text/plain": [
       "       id  rank  neighbor_id  distance\n",
       "0       0     1        27290  0.999813\n",
       "1       0     2        13917  0.999773\n",
       "2       0     3        13660  0.999748\n",
       "3       0     4        28178  0.999021\n",
       "4       0     5          768  0.997327\n",
       "..    ...   ...          ...       ...\n",
       "45  78834    46        39072  0.957576\n",
       "46  78834    47        20628  0.957116\n",
       "47  78834    48        68253  0.957007\n",
       "48  78834    49         6566  0.956644\n",
       "49  78834    50        73634  0.956597\n",
       "\n",
       "[3941750 rows x 4 columns]"
      ]
     },
     "execution_count": 92,
     "metadata": {},
     "output_type": "execute_result"
    }
   ],
   "source": [
    "all_neighbors"
   ]
  },
  {
   "cell_type": "code",
   "execution_count": 124,
   "id": "5fa1918b-cbbf-49fa-8e41-dbf2b37d2e49",
   "metadata": {
    "tags": []
   },
   "outputs": [
    {
     "data": {
      "text/plain": [
       "Text(0, 0.5, '# of neighboring product pairs')"
      ]
     },
     "execution_count": 124,
     "metadata": {},
     "output_type": "execute_result"
    },
    {
     "data": {
      "image/png": "[encoded data removed]",
      "text/plain": [
       "<Figure size 640x480 with 1 Axes>"
      ]
     },
     "metadata": {},
     "output_type": "display_data"
    }
   ],
   "source": [
    "step = 0.005\n",
    "bins = np.arange(0.8, 1.0 + 1.0E-8, step)\n",
    "ax = all_neighbors.distance.hist(bins=bins, edgecolor='k', color='lightblue')\n",
    "ax.set_xlabel('Cosine distance')\n",
    "ax.set_ylabel('# of neighboring product pairs')"
   ]
  },
  {
   "cell_type": "code",
   "execution_count": 133,
   "id": "d4293ea1-29b8-40ac-928e-c06ded0e223a",
   "metadata": {
    "tags": []
   },
   "outputs": [
    {
     "data": {
      "text/plain": [
       "<matplotlib.lines.Line2D at 0x7f70a475f970>"
      ]
     },
     "execution_count": 133,
     "metadata": {},
     "output_type": "execute_result"
    },
    {
     "data": {
      "image/png": "[encoded data removed]",
      "text/plain": [
       "<Figure size 640x480 with 1 Axes>"
      ]
     },
     "metadata": {},
     "output_type": "display_data"
    }
   ],
   "source": [
    "step = 0.0005\n",
    "bins = np.arange(0.95, 1.0 + 1.0E-8, step)\n",
    "ax = all_neighbors.distance.hist(bins=bins, edgecolor='k', color='lightblue')\n",
    "ax.set_xlabel('Cosine distance')\n",
    "ax.set_ylabel('# of neighboring product pairs')\n",
    "ax.axvline(0.9975, ls=':', color='k')"
   ]
  },
  {
   "cell_type": "code",
   "execution_count": null,
   "id": "43025ad5-250b-485b-8817-e2e11e1aa954",
   "metadata": {},
   "outputs": [],
   "source": []
  },
  {
   "cell_type": "code",
   "execution_count": null,
   "id": "df914586-e75a-4954-92a4-40b3ab5bdf6c",
   "metadata": {},
   "outputs": [],
   "source": []
  },
  {
   "cell_type": "code",
   "execution_count": 121,
   "id": "9965c5ef-7994-42e9-a9fd-286bef23775e",
   "metadata": {
    "tags": []
   },
   "outputs": [
    {
     "name": "stdout",
     "output_type": "stream",
     "text": [
      "       id  rank  neighbor_id  distance\n",
      "30  14875    31        34861  0.993515\n",
      "\n",
      "TITRE: XJYDNCG Housse de canapé extensible universelle sans accoudoir extensible 190 *160 cm-8541RGV\n",
      "DESCRIPTION:\n",
      "Matière: 95% polyester + 5% élasthanneFait de tissus confortables, doux au toucher.\n",
      "Peut être détaché pour nettoyer à tout moment, propre et hygiénique. \n",
      "Dimensions: Convient aux canapés-lits sans accoudoirs d'une longueur de 160 à 190 cm, d'une prof\n",
      "\n",
      "TITRE: XJYDNCG housse de canapé extensible universelle sans accoudoir extensible 190*160cm-RE5G1\n",
      "DESCRIPTION:\n",
      "Matière: 95% polyester + 5% élasthanneFait de tissus confortables, doux au toucher.\n",
      "Peut être détaché pour nettoyer à tout moment, propre et hygiénique. \n",
      "Dimensions: Convient aux canapés-lits sans accoudoirs d'une longueur de 160 à 190 cm, d'une prof\n"
     ]
    }
   ],
   "source": [
    "start = 0.99\n",
    "pair = all_neighbors.loc[lambda x: x.distance.between(left=start, right=start+step)].sample(n=1)\n",
    "print(pair)\n",
    "print()\n",
    "print(embedded_products.iloc[pair['id'].item()].fp_content)\n",
    "print()\n",
    "print(embedded_products.iloc[pair['neighbor_id'].item()].fp_content)"
   ]
  },
  {
   "cell_type": "code",
   "execution_count": 135,
   "id": "3c8503f7-19c4-43e6-b826-1b10d140487f",
   "metadata": {
    "tags": []
   },
   "outputs": [
    {
     "name": "stdout",
     "output_type": "stream",
     "text": [
      "      id  rank  neighbor_id  distance\n",
      "0  24456     1        34856  0.999812\n",
      "\n",
      "TBE1695354212021\n",
      "TITRE: HOP-Canapé-lit à 2 places Noir Velours-HOP337385\n",
      "DESCRIPTION:\n",
      "Produit:HOP337385. Couleur: Noir. Matériau: velours (100 % polyester), bois, plastique. Matériau de remplissage: Mousse. Facilement convertible en lit. Dimensions du canapé:. Dimensions totales: 220 x 84,5 x 69 cm (L x l x H). Profondeur du siège: 50 cm. Épaisseur du siège: 15 cm. Hauteur du siège à partir du sol: 32 cm. Hauteur du dossier (en position haute): 69 cm. Hauteur du dossier (à mi-hauteur): 56 cm. Épaisseu\n",
      "\n",
      "TBE1695353788438\n",
      "TITRE: HOP-Canapé-lit à 2 places Noir Velours-HOP337656\n",
      "DESCRIPTION:\n",
      "Produit:HOP337656. Couleur: Noir. Matériau: velours (100 % polyester), bois, plastique. Matériau de remplissage: Mousse. Facilement convertible en lit. Dimensions du canapé:. Dimensions totales: 220 x 84,5 x 69 cm (L x l x H). Profondeur du siège: 50 cm. Épaisseur du siège: 15 cm. Hauteur du siège à partir du sol: 32 cm. Hauteur du dossier (en position haute): 69 cm. Hauteur du dossier (à mi-hauteur): 56 cm. Épaisseu\n"
     ]
    }
   ],
   "source": [
    "pair = all_neighbors.loc[lambda x: x.distance.gt(0.9975)].sample(n=1)\n",
    "print(pair)\n",
    "print()\n",
    "print(embedded_products.iloc[pair['id'].item()].product_id)\n",
    "print(embedded_products.iloc[pair['id'].item()].fp_content)\n",
    "print()\n",
    "print(embedded_products.iloc[pair['neighbor_id'].item()].product_id)\n",
    "print(embedded_products.iloc[pair['neighbor_id'].item()].fp_content)"
   ]
  }
 ],
 "metadata": {
  "kernelspec": {
   "display_name": "Python 3.10 (icarusight)",
   "language": "python",
   "name": "icarusight"
  },
  "language_info": {
   "codemirror_mode": {
    "name": "ipython",
    "version": 3
   },
   "file_extension": ".py",
   "mimetype": "text/x-python",
   "name": "python",
   "nbconvert_exporter": "python",
   "pygments_lexer": "ipython3",
   "version": "3.10.13"
  }
 },
 "nbformat": 4,
 "nbformat_minor": 5
}
